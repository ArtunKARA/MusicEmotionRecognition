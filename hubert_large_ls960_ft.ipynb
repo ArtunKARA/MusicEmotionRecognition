{
  "nbformat": 4,
  "nbformat_minor": 0,
  "metadata": {
    "colab": {
      "provenance": [],
      "authorship_tag": "ABX9TyPsJSRVPGah0kpOT0iAp8+b",
      "include_colab_link": true
    },
    "kernelspec": {
      "name": "python3",
      "display_name": "Python 3"
    },
    "language_info": {
      "name": "python"
    }
  },
  "cells": [
    {
      "cell_type": "markdown",
      "metadata": {
        "id": "view-in-github",
        "colab_type": "text"
      },
      "source": [
        "<a href=\"https://colab.research.google.com/github/ArtunKARA/MusicEmotionRecognition/blob/main/hubert_large_ls960_ft.ipynb\" target=\"_parent\"><img src=\"https://colab.research.google.com/assets/colab-badge.svg\" alt=\"Open In Colab\"/></a>"
      ]
    },
    {
      "cell_type": "markdown",
      "source": [
        "Drive İle Bağlantı"
      ],
      "metadata": {
        "id": "UsN68utIkYbz"
      }
    },
    {
      "cell_type": "code",
      "execution_count": null,
      "metadata": {
        "colab": {
          "base_uri": "https://localhost:8080/"
        },
        "id": "LaQDPu8CjzdK",
        "outputId": "78dd51e2-6ec9-4a36-b785-2f9866acc560"
      },
      "outputs": [
        {
          "output_type": "stream",
          "name": "stdout",
          "text": [
            "Mounted at /content/drive\n"
          ]
        }
      ],
      "source": [
        "from google.colab import drive\n",
        "drive.mount('/content/drive')\n"
      ]
    },
    {
      "cell_type": "markdown",
      "source": [
        "Veri Hazırlama"
      ],
      "metadata": {
        "id": "17ZaOquHknqJ"
      }
    },
    {
      "cell_type": "code",
      "source": [
        "import os\n",
        "import torchaudio\n",
        "from torchaudio.transforms import MelSpectrogram, AmplitudeToDB\n",
        "\n",
        "# Veri yolu\n",
        "data_dir = '/content/drive/MyDrive/Music Data/'\n",
        "\n",
        "# Veri seti hazırlama\n",
        "labels = ['Agresif', 'Hüzünlü', 'Neşeli']\n",
        "data = []\n",
        "for label in labels:\n",
        "    folder_path = os.path.join(data_dir, f\"{label} Müzikler\")\n",
        "    for filename in os.listdir(folder_path):\n",
        "        if filename.endswith('.wav'):\n",
        "            filepath = os.path.join(folder_path, filename)\n",
        "            waveform, sample_rate = torchaudio.load(filepath)\n",
        "            data.append((waveform, label))\n",
        "\n",
        "# MelSpectrogram dönüştürme\n",
        "transform = MelSpectrogram()\n",
        "data = [(transform(waveform), label) for waveform, label in data]\n"
      ],
      "metadata": {
        "id": "0VLhztrTkX9R"
      },
      "execution_count": null,
      "outputs": []
    },
    {
      "cell_type": "markdown",
      "source": [
        "HuBert Modelini Eğitme\n"
      ],
      "metadata": {
        "id": "KFeEnWnnmQcH"
      }
    },
    {
      "cell_type": "code",
      "source": [
        "from transformers import Wav2Vec2Processor, HubertForSequenceClassification\n",
        "import torch\n",
        "from torch.utils.data import DataLoader, Dataset\n",
        "from sklearn.model_selection import train_test_split\n",
        "\n",
        "# HuBert modeli ve tokenizer'ı yükleme\n",
        "processor = Wav2Vec2Processor.from_pretrained(\"facebook/hubert-large-ls960-ft\")\n",
        "model = HubertForSequenceClassification.from_pretrained(\"facebook/hubert-large-ls960-ft\", num_labels=3)\n",
        "\n",
        "# Custom Dataset sınıfı\n",
        "class AudioDataset(Dataset):\n",
        "    def __init__(self, data, labels):\n",
        "        self.data = data\n",
        "        self.labels = labels\n",
        "\n",
        "    def __len__(self):\n",
        "        return len(self.data)\n",
        "\n",
        "    def __getitem__(self, idx):\n",
        "        waveform, label = self.data[idx]\n",
        "        inputs = processor(waveform.squeeze().numpy(), sampling_rate=16000, return_tensors=\"pt\")\n",
        "        return inputs.input_values, torch.tensor(labels.index(label))\n",
        "\n",
        "# Veriyi train ve test setlerine ayırma\n",
        "train_data, test_data = train_test_split(data, test_size=0.2, random_state=42)\n",
        "\n",
        "# DataLoader\n",
        "train_dataset = AudioDataset(train_data, labels)\n",
        "test_dataset = AudioDataset(test_data, labels)\n",
        "train_loader = DataLoader(train_dataset, batch_size=8, shuffle=True)\n",
        "test_loader = DataLoader(test_dataset, batch_size=8)"
      ],
      "metadata": {
        "id": "JtPKUq1RmeXt"
      },
      "execution_count": null,
      "outputs": []
    },
    {
      "cell_type": "markdown",
      "source": [
        "Model Performansını Değerlendirme"
      ],
      "metadata": {
        "id": "gtpgHyqgmizq"
      }
    },
    {
      "cell_type": "code",
      "source": [
        "from torch import nn, optim\n",
        "from sklearn.metrics import accuracy_score, f1_score, recall_score, precision_score, roc_auc_score, confusion_matrix, roc_curve, auc\n",
        "import matplotlib.pyplot as plt\n",
        "\n",
        "# Eğitim döngüsü\n",
        "criterion = nn.CrossEntropyLoss()\n",
        "optimizer = optim.AdamW(model.parameters(), lr=5e-5)\n",
        "\n",
        "num_epochs = 5\n",
        "train_losses = []\n",
        "\n",
        "for epoch in range(num_epochs):\n",
        "    model.train()\n",
        "    running_loss = 0.0\n",
        "    for inputs, labels in train_loader:\n",
        "        optimizer.zero_grad()\n",
        "        outputs = model(inputs).logits\n",
        "        loss = criterion(outputs, labels)\n",
        "        loss.backward()\n",
        "        optimizer.step()\n",
        "        running_loss += loss.item()\n",
        "\n",
        "    avg_loss = running_loss / len(train_loader)\n",
        "    train_losses.append(avg_loss)\n",
        "    print(f\"Epoch {epoch+1}/{num_epochs}, Loss: {avg_loss}\")\n",
        "\n",
        "# Kayıp grafiği\n",
        "plt.plot(range(num_epochs), train_losses)\n",
        "plt.xlabel('Epochs')\n",
        "plt.ylabel('Loss')\n",
        "plt.title('Loss vs Epochs')\n",
        "plt.show()\n",
        "\n",
        "# Model değerlendirme\n",
        "model.eval()\n",
        "y_true = []\n",
        "y_pred = []\n",
        "\n",
        "with torch.no_grad():\n",
        "    for inputs, labels in test_loader:\n",
        "        outputs = model(inputs).logits\n",
        "        _, preds = torch.max(outputs, 1)\n",
        "        y_true.extend(labels.numpy())\n",
        "        y_pred.extend(preds.numpy())\n",
        "\n",
        "# Metikler\n",
        "accuracy = accuracy_score(y_true, y_pred)\n",
        "f1 = f1_score(y_true, y_pred, average='weighted')\n",
        "recall = recall_score(y_true, y_pred, average='weighted')\n",
        "precision = precision_score(y_true, y_pred, average='weighted')\n",
        "auc_score = roc_auc_score(y_true, model(torch.tensor(inputs)).logits, multi_class='ovr')\n",
        "\n",
        "# ROC curve\n",
        "fpr = {}\n",
        "tpr = {}\n",
        "roc_auc = {}\n",
        "\n",
        "for i in range(3):\n",
        "    fpr[i], tpr[i], _ = roc_curve(y_true, model(torch.tensor(inputs)).logits[:, i], pos_label=i)\n",
        "    roc_auc[i] = auc(fpr[i], tpr[i])\n",
        "\n",
        "# ROC Curve grafiği\n",
        "plt.figure()\n",
        "for i in range(3):\n",
        "    plt.plot(fpr[i], tpr[i], label=f'ROC curve (area = {roc_auc[i]:.2f}) for class {labels[i]}')\n",
        "plt.plot([0, 1], [0, 1], 'k--')\n",
        "plt.xlabel('False Positive Rate')\n",
        "plt.ylabel('True Positive Rate')\n",
        "plt.title('Receiver Operating Characteristic')\n",
        "plt.legend(loc='lower right')\n",
        "plt.show()"
      ],
      "metadata": {
        "id": "eujj723LmmcE"
      },
      "execution_count": null,
      "outputs": []
    },
    {
      "cell_type": "markdown",
      "source": [
        "Sonuçların Raporlanması"
      ],
      "metadata": {
        "id": "zQBwajZlmqDp"
      }
    },
    {
      "cell_type": "code",
      "source": [
        "import pandas as pd\n",
        "\n",
        "# Sonuçları bir DataFrame'de toplayalım\n",
        "results = pd.DataFrame({\n",
        "    'Metric': ['Accuracy', 'F-measure', 'Recall', 'Precision', 'AUC'],\n",
        "    'Score': [accuracy, f1, recall, precision, auc_score]\n",
        "})\n",
        "\n",
        "print(results)"
      ],
      "metadata": {
        "id": "u37UdR53mpxi"
      },
      "execution_count": null,
      "outputs": []
    }
  ]
}